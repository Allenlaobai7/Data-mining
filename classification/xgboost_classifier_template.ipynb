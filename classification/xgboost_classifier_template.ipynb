{
 "cells": [
  {
   "cell_type": "code",
   "execution_count": 1,
   "metadata": {},
   "outputs": [
    {
     "name": "stderr",
     "output_type": "stream",
     "text": [
      "/data1/wangxiaonan/anaconda3/envs/py37/lib/python3.7/site-packages/ipykernel_launcher.py:20: FutureWarning: Passing a negative integer is deprecated in version 1.0 and will not be supported in future version. Instead, use None to not limit the column width.\n"
     ]
    }
   ],
   "source": [
    "import sys\n",
    "import argparse\n",
    "import logging\n",
    "import io\n",
    "import os\n",
    "import re\n",
    "import pandas as pd\n",
    "import math\n",
    "import random\n",
    "import numpy as np\n",
    "from collections import Counter\n",
    "import json\n",
    "import requests\n",
    "import base64 \n",
    "import Levenshtein as lev\n",
    "import yaml\n",
    "import unicodedata\n",
    "from datetime import datetime, timedelta\n",
    "pd.options.mode.chained_assignment = None\n",
    "pd.set_option('display.max_colwidth', -1)"
   ]
  },
  {
   "cell_type": "code",
   "execution_count": 285,
   "metadata": {},
   "outputs": [],
   "source": [
    "import xgboost as xgb\n",
    "from xgboost import DMatrix\n",
    "from onnxmltools.convert import convert_xgboost\n",
    "from onnxmltools.utils import save_model\n",
    "from onnxmltools.convert.common.data_types import FloatTensorType\n",
    "from sklearn.preprocessing import OneHotEncoder\n",
    "from sklearn.model_selection import train_test_split\n",
    "from sklearn.metrics import accuracy_score,confusion_matrix,classification_report,auc,roc_auc_score\n",
    "import matplotlib.pyplot as plt"
   ]
  },
  {
   "cell_type": "code",
   "execution_count": 142,
   "metadata": {},
   "outputs": [],
   "source": [
    "df = pd.read_csv('1.csv', lineterminator='\\n',encoding='utf-8-sig', dtype=str)\n",
    "int_cols = ['']"
   ]
  },
  {
   "cell_type": "code",
   "execution_count": 246,
   "metadata": {},
   "outputs": [],
   "source": [
    "# process categorical cols, ensure data are in correct range\n",
    "# subsitute NaN to 999, will be removed after one-hot encoding"
   ]
  },
  {
   "cell_type": "code",
   "execution_count": 247,
   "metadata": {},
   "outputs": [
    {
     "name": "stdout",
     "output_type": "stream",
     "text": [
      "147486\n",
      "147484\n"
     ]
    }
   ],
   "source": [
    "test = df.copy()\n",
    "test = test.apply(preprocessing, axis=1)\n",
    "test = test[~test['label'].isnull()]\n",
    "print(len(test))"
   ]
  },
  {
   "cell_type": "code",
   "execution_count": 249,
   "metadata": {},
   "outputs": [],
   "source": [
    "y = test['label'].tolist()\n",
    "x = test[['']]"
   ]
  },
  {
   "cell_type": "code",
   "execution_count": null,
   "metadata": {},
   "outputs": [],
   "source": [
    "cate_cols = list(cate_dict.keys())\n",
    "other_cols = [i for i in list(x) if i not in cate_cols]\n",
    "enc = OneHotEncoder(categories = [cate_dict[cate_col] + [999] for cate_col in cate_cols])\n",
    "one_hot_encoded = pd.DataFrame(enc.fit_transform(x[cate_cols]).toarray(), index=x.index,\n",
    "                              columns=enc.get_feature_names(cate_cols))\n",
    "one_hot_encoded = one_hot_encoded.drop([cate_col+'_999' for cate_col in cate_cols], axis=1)  # drop na cols\n",
    "x = pd.concat([x[other_cols], one_hot_encoded], axis=1)"
   ]
  },
  {
   "cell_type": "code",
   "execution_count": 253,
   "metadata": {},
   "outputs": [],
   "source": [
    "# split to train and test\n",
    "X_train, X_test, y_train, y_test = train_test_split(x, y, test_size=0.3, random_state=42)\n",
    "X_train, X_val, y_train, y_val = train_test_split(X_train, y_train, test_size=0.3, random_state=42)"
   ]
  },
  {
   "cell_type": "code",
   "execution_count": 271,
   "metadata": {},
   "outputs": [],
   "source": [
    "dtrain = xgb.DMatrix(X_train, label=y_train)\n",
    "dval = xgb.DMatrix(X_val, label=y_val)\n",
    "dtest = xgb.DMatrix(X_test, label=y_test)"
   ]
  },
  {
   "cell_type": "code",
   "execution_count": null,
   "metadata": {},
   "outputs": [],
   "source": [
    "params = {'objective': 'binary:logistic'}\n",
    "xgb_model = xgb.train(params, dtrain, num_boost_round=100, evals=[(dtrain, 'train'), (dval, 'eval')])"
   ]
  },
  {
   "cell_type": "code",
   "execution_count": 301,
   "metadata": {},
   "outputs": [],
   "source": [
    "pred = xgb_model.predict(dtest)"
   ]
  },
  {
   "cell_type": "code",
   "execution_count": 302,
   "metadata": {},
   "outputs": [
    {
     "name": "stdout",
     "output_type": "stream",
     "text": [
      "Accuracy: 75.69%\n"
     ]
    }
   ],
   "source": [
    "predictions = [round(value) for value in pred]\n",
    "accuracy = accuracy_score(y_test, predictions)\n",
    "print(\"Accuracy: %.2f%%\" % (accuracy * 100.0))"
   ]
  },
  {
   "cell_type": "code",
   "execution_count": 303,
   "metadata": {},
   "outputs": [
    {
     "name": "stdout",
     "output_type": "stream",
     "text": [
      "AUC Score : 0.631178\n"
     ]
    }
   ],
   "source": [
    "print (\"AUC Score : %f\" % roc_auc_score(y_test, predictions))"
   ]
  },
  {
   "cell_type": "code",
   "execution_count": 304,
   "metadata": {},
   "outputs": [
    {
     "name": "stdout",
     "output_type": "stream",
     "text": [
      "[[29215  2584]\n",
      " [ 8170  4277]]\n"
     ]
    }
   ],
   "source": [
    "print(confusion_matrix(y_test,predictions))"
   ]
  },
  {
   "cell_type": "code",
   "execution_count": 305,
   "metadata": {},
   "outputs": [
    {
     "name": "stdout",
     "output_type": "stream",
     "text": [
      "              precision    recall  f1-score   support\n",
      "\n",
      "           0       0.78      0.92      0.84     31799\n",
      "           1       0.62      0.34      0.44     12447\n",
      "\n",
      "    accuracy                           0.76     44246\n",
      "   macro avg       0.70      0.63      0.64     44246\n",
      "weighted avg       0.74      0.76      0.73     44246\n",
      "\n"
     ]
    }
   ],
   "source": [
    "print(classification_report(y_test, predictions, labels=[0, 1]))"
   ]
  },
  {
   "cell_type": "code",
   "execution_count": null,
   "metadata": {},
   "outputs": [],
   "source": [
    "xgb.plot_importance(xgb_model)"
   ]
  }
 ],
 "metadata": {
  "kernelspec": {
   "display_name": "Python [conda env:py37]",
   "language": "python",
   "name": "conda-env-py37-py"
  },
  "language_info": {
   "codemirror_mode": {
    "name": "ipython",
    "version": 3
   },
   "file_extension": ".py",
   "mimetype": "text/x-python",
   "name": "python",
   "nbconvert_exporter": "python",
   "pygments_lexer": "ipython3",
   "version": "3.7.9"
  },
  "pycharm": {
   "stem_cell": {
    "cell_type": "raw",
    "metadata": {
     "collapsed": false
    },
    "source": []
   }
  }
 },
 "nbformat": 4,
 "nbformat_minor": 2
}
