{
 "cells": [
  {
   "cell_type": "code",
   "execution_count": 1,
   "metadata": {
    "collapsed": true,
    "deletable": true,
    "editable": true
   },
   "outputs": [],
   "source": [
    "import pandas as pd\n",
    "import numpy as np\n",
    "import matplotlib.pyplot as plt\n",
    "import nltk\n",
    "import sklearn as sklearn\n",
    "%matplotlib inline\n",
    "import warnings\n",
    "warnings.filterwarnings('ignore')\n",
    "%config InlineBackend.figure_format = 'retina'"
   ]
  },
  {
   "cell_type": "code",
   "execution_count": 2,
   "metadata": {
    "collapsed": false,
    "deletable": true,
    "editable": true
   },
   "outputs": [
    {
     "name": "stdout",
     "output_type": "stream",
     "text": [
      "/Users/Allen/Documents/ST4240/kaggle\n"
     ]
    }
   ],
   "source": [
    "%cd /Users/Allen/Documents/ST4240/kaggle\n",
    "train = pd.read_csv(\"train.csv\")\n",
    "test = pd.read_csv(\"test.csv\")\n",
    "\n",
    "train_nf=pd.read_csv(\"train_newfeatures.csv\")\n",
    "test_nf=pd.read_csv(\"test_newfeatures.csv\")"
   ]
  },
  {
   "cell_type": "code",
   "execution_count": 3,
   "metadata": {
    "collapsed": false,
    "deletable": true,
    "editable": true
   },
   "outputs": [],
   "source": [
    "#combining dataframes\n",
    "train = pd.concat([train, train_nf], axis=1)\n",
    "test = pd.concat([test, test_nf], axis=1)"
   ]
  },
  {
   "cell_type": "code",
   "execution_count": 4,
   "metadata": {
    "collapsed": true,
    "deletable": true,
    "editable": true
   },
   "outputs": [],
   "source": [
    "# remove duplicated ID\n",
    "train = train.loc[:,~train.columns.duplicated()]\n",
    "test = test.loc[:,~test.columns.duplicated()]"
   ]
  },
  {
   "cell_type": "markdown",
   "metadata": {
    "deletable": true,
    "editable": true
   },
   "source": [
    "# Add features\n",
    "convert Day, Hour, start_cluster, end_cluster to dummy variables"
   ]
  },
  {
   "cell_type": "code",
   "execution_count": 5,
   "metadata": {
    "collapsed": true,
    "deletable": true,
    "editable": true
   },
   "outputs": [],
   "source": [
    "def convertdummy(df,Catcolumn):\n",
    "    dummies = pd.get_dummies(df[str(Catcolumn)]).rename(columns = lambda x: str(Catcolumn) + str(x))\n",
    "    df = pd.concat([df, dummies], axis=1)\n",
    "    df = df.drop([str(Catcolumn)], axis=1)\n",
    "    return df"
   ]
  },
  {
   "cell_type": "code",
   "execution_count": 6,
   "metadata": {
    "collapsed": false,
    "deletable": true,
    "editable": true
   },
   "outputs": [],
   "source": [
    "train = convertdummy(train, \"start_cluster\")\n",
    "train = convertdummy(train, \"end_cluster\")\n",
    "train = convertdummy(train, \"timerange\")\n",
    "train = convertdummy(train, \"Day\")\n",
    "\n",
    "test = convertdummy(test, \"start_cluster\")\n",
    "test = convertdummy(test, \"end_cluster\")\n",
    "test = convertdummy(test, \"timerange\")\n",
    "test = convertdummy(test, \"Day\")"
   ]
  },
  {
   "cell_type": "markdown",
   "metadata": {
    "deletable": true,
    "editable": true
   },
   "source": [
    "# Split data"
   ]
  },
  {
   "cell_type": "code",
   "execution_count": 7,
   "metadata": {
    "collapsed": true,
    "deletable": true,
    "editable": true
   },
   "outputs": [],
   "source": [
    "from sklearn.model_selection import train_test_split\n",
    "traintrain,traintest = train_test_split(train, test_size = 0.3, random_state = 42,shuffle=True ) "
   ]
  },
  {
   "cell_type": "markdown",
   "metadata": {
    "collapsed": true,
    "deletable": true,
    "editable": true
   },
   "source": [
    "# Modelling \n",
    "## benchmark model: \n",
    "<br>LR: Use straight distance to predict traj-length and duration "
   ]
  },
  {
   "cell_type": "code",
   "execution_count": 8,
   "metadata": {
    "collapsed": true,
    "deletable": true,
    "editable": true
   },
   "outputs": [],
   "source": [
    "from sklearn.model_selection import cross_val_score\n",
    "from sklearn.metrics import accuracy_score\n",
    "\n",
    "def model_eval(model,Xtrain, ytrain, Xtest,ytest):\n",
    "    model.fit(Xtrain,ytrain)\n",
    "    pred = model.predict(Xtest)\n",
    "    print (\"Cross Validation score : \")\n",
    "    print (cross_val_score(model, Xtrain, ytrain, cv=10).mean())\n",
    "    final = np.exp(pred)\n",
    "    print (\"rmspe : %f\" % np.sqrt(np.mean(((final-ytest)/ytest)**2)))"
   ]
  },
  {
   "cell_type": "code",
   "execution_count": 13,
   "metadata": {
    "collapsed": false,
    "deletable": true,
    "editable": true
   },
   "outputs": [],
   "source": [
    "# X:\n",
    "Xcol=('LOG_STRAIGHT_DIST')\n",
    "Xtraintrain=traintrain[[Xcol]]\n",
    "Xtraintest=traintest[[Xcol]]\n",
    "\n",
    "# y: logduration\n",
    "logduration_traintrain = traintrain[\"LOG_DURATION\"]\n",
    "duration_traintest = traintest[\"DURATION\"]\n",
    "\n",
    "#y: logdistance\n",
    "logdistance_traintrain = traintrain[\"LOG_TRAJ_LENGTH\"]\n",
    "distance_traintest = traintest[\"TRAJ_LENGTH\"]"
   ]
  },
  {
   "cell_type": "code",
   "execution_count": 12,
   "metadata": {
    "collapsed": false,
    "deletable": true,
    "editable": true,
    "scrolled": true
   },
   "outputs": [
    {
     "name": "stdout",
     "output_type": "stream",
     "text": [
      "Cross Validation score : \n",
      "0.10721046984831636\n",
      "rmspe : 0.348944\n"
     ]
    }
   ],
   "source": [
    "from sklearn.linear_model import LinearRegression\n",
    "LR = LinearRegression()\n",
    "model_eval(LR,Xtraintrain, logduration_traintrain,Xtraintest,duration_traintest)"
   ]
  },
  {
   "cell_type": "code",
   "execution_count": 14,
   "metadata": {
    "collapsed": false,
    "deletable": true,
    "editable": true
   },
   "outputs": [
    {
     "name": "stdout",
     "output_type": "stream",
     "text": [
      "Cross Validation score : \n",
      "0.5936938421514746\n",
      "rmspe : 0.302009\n"
     ]
    }
   ],
   "source": [
    "LR_distance = LinearRegression()\n",
    "model_eval(LR,Xtraintrain, logdistance_traintrain,Xtraintest,distance_traintest)"
   ]
  },
  {
   "cell_type": "markdown",
   "metadata": {
    "deletable": true,
    "editable": true
   },
   "source": [
    "## Predict distance "
   ]
  },
  {
   "cell_type": "code",
   "execution_count": 135,
   "metadata": {
    "collapsed": false,
    "deletable": true,
    "editable": true
   },
   "outputs": [],
   "source": [
    "# X:\n",
    "Xcol=traintrain.columns[13::]\n",
    "Xtraintrain=traintrain[Xcol].drop([\"hour\"], axis=1)\n",
    "Xtraintest=traintest[Xcol].drop([\"hour\"], axis=1)"
   ]
  },
  {
   "cell_type": "code",
   "execution_count": 136,
   "metadata": {
    "collapsed": false,
    "deletable": true,
    "editable": true
   },
   "outputs": [
    {
     "name": "stdout",
     "output_type": "stream",
     "text": [
      "Cross Validation score : \n",
      "0.609774924100168\n",
      "rmspe : 0.423547\n"
     ]
    }
   ],
   "source": [
    "#random forest\n",
    "from sklearn.ensemble import RandomForestRegressor\n",
    "RF = RandomForestRegressor(n_estimators =100, max_features = \"sqrt\",bootstrap = True, verbose=0,\n",
    "                            random_state=42,max_depth = 10)\n",
    "\n",
    "model_eval(RF,Xtraintrain, logdistance_traintrain,Xtraintest,distance_traintest)"
   ]
  },
  {
   "cell_type": "code",
   "execution_count": 102,
   "metadata": {
    "collapsed": false,
    "deletable": true,
    "editable": true
   },
   "outputs": [
    {
     "name": "stdout",
     "output_type": "stream",
     "text": [
      "Feature ranking:\n",
      "1. feature 0 (0.535019) \n",
      "2. feature 43 (0.061465) \n",
      "3. feature 56 (0.050650) \n",
      "4. feature 42 (0.041163) \n",
      "5. feature 53 (0.034386) \n",
      "6. feature 70 (0.023133) \n",
      "7. feature 55 (0.022874) \n",
      "8. feature 32 (0.022752) \n",
      "9. feature 54 (0.016596) \n",
      "10. feature 57 (0.016491) \n",
      "11. feature 39 (0.015307) \n",
      "12. feature 63 (0.010785) \n",
      "13. feature 66 (0.009992) \n",
      "14. feature 76 (0.009619) \n",
      "15. feature 51 (0.009064) \n",
      "16. feature 50 (0.008212) \n",
      "17. feature 72 (0.007920) \n",
      "18. feature 41 (0.006650) \n",
      "19. feature 1 (0.005747) \n",
      "20. feature 45 (0.005745) \n",
      "21. feature 74 (0.005603) \n",
      "22. feature 46 (0.004768) \n",
      "23. feature 40 (0.004719) \n",
      "24. feature 58 (0.004398) \n",
      "25. feature 33 (0.003952) \n",
      "26. feature 65 (0.003850) \n",
      "27. feature 20 (0.003611) \n",
      "28. feature 17 (0.002851) \n",
      "29. feature 78 (0.002791) \n",
      "30. feature 44 (0.002768) \n",
      "31. feature 67 (0.002567) \n",
      "32. feature 16 (0.002436) \n",
      "33. feature 80 (0.002416) \n",
      "34. feature 48 (0.002181) \n",
      "35. feature 73 (0.001968) \n",
      "36. feature 31 (0.001958) \n",
      "37. feature 13 (0.001953) \n",
      "38. feature 37 (0.001913) \n",
      "39. feature 23 (0.001882) \n",
      "40. feature 69 (0.001863) \n",
      "41. feature 60 (0.001544) \n",
      "42. feature 12 (0.001542) \n",
      "43. feature 52 (0.001486) \n",
      "44. feature 25 (0.001293) \n",
      "45. feature 11 (0.001228) \n",
      "46. feature 30 (0.001178) \n",
      "47. feature 14 (0.001154) \n",
      "48. feature 49 (0.001034) \n",
      "49. feature 8 (0.000899) \n",
      "50. feature 3 (0.000842) \n",
      "51. feature 75 (0.000826) \n",
      "52. feature 47 (0.000819) \n",
      "53. feature 2 (0.000792) \n",
      "54. feature 6 (0.000720) \n",
      "55. feature 5 (0.000685) \n",
      "56. feature 64 (0.000682) \n",
      "57. feature 61 (0.000555) \n",
      "58. feature 34 (0.000503) \n",
      "59. feature 77 (0.000494) \n",
      "60. feature 79 (0.000493) \n",
      "61. feature 19 (0.000473) \n",
      "62. feature 28 (0.000421) \n",
      "63. feature 71 (0.000390) \n",
      "64. feature 108 (0.000325) \n",
      "65. feature 86 (0.000313) \n",
      "66. feature 62 (0.000283) \n",
      "67. feature 27 (0.000263) \n",
      "68. feature 15 (0.000241) \n",
      "69. feature 21 (0.000231) \n",
      "70. feature 10 (0.000229) \n",
      "71. feature 59 (0.000226) \n",
      "72. feature 26 (0.000213) \n",
      "73. feature 29 (0.000212) \n",
      "74. feature 38 (0.000183) \n",
      "75. feature 18 (0.000165) \n",
      "76. feature 7 (0.000164) \n",
      "77. feature 36 (0.000158) \n",
      "78. feature 9 (0.000149) \n",
      "79. feature 84 (0.000147) \n",
      "80. feature 35 (0.000137) \n",
      "81. feature 87 (0.000131) \n",
      "82. feature 107 (0.000129) \n",
      "83. feature 22 (0.000123) \n",
      "84. feature 85 (0.000109) \n",
      "85. feature 105 (0.000102) \n",
      "86. feature 110 (0.000088) \n",
      "87. feature 111 (0.000085) \n",
      "88. feature 81 (0.000082) \n",
      "89. feature 4 (0.000080) \n",
      "90. feature 109 (0.000080) \n",
      "91. feature 82 (0.000076) \n",
      "92. feature 106 (0.000074) \n",
      "93. feature 83 (0.000071) \n",
      "94. feature 24 (0.000071) \n",
      "95. feature 101 (0.000070) \n",
      "96. feature 104 (0.000065) \n",
      "97. feature 99 (0.000064) \n",
      "98. feature 96 (0.000064) \n",
      "99. feature 92 (0.000061) \n",
      "100. feature 91 (0.000061) \n",
      "101. feature 100 (0.000059) \n",
      "102. feature 88 (0.000057) \n",
      "103. feature 90 (0.000057) \n",
      "104. feature 97 (0.000054) \n",
      "105. feature 103 (0.000054) \n",
      "106. feature 93 (0.000053) \n",
      "107. feature 98 (0.000051) \n",
      "108. feature 95 (0.000051) \n",
      "109. feature 89 (0.000045) \n",
      "110. feature 102 (0.000042) \n",
      "111. feature 68 (0.000041) \n",
      "112. feature 94 (0.000035) \n"
     ]
    },
    {
     "data": {
      "text/plain": [
       "(-1, 112)"
      ]
     },
     "execution_count": 102,
     "metadata": {},
     "output_type": "execute_result"
    },
    {
     "data": {
      "image/png": "[encoded data removed]",
      "text/plain": [
       "<matplotlib.figure.Figure at 0x16a2b4208>"
      ]
     },
     "metadata": {
      "image/png": {
       "height": 265,
       "width": 370
      }
     },
     "output_type": "display_data"
    }
   ],
   "source": [
    "#feature importance \n",
    "importances = RF.feature_importances_\n",
    "std = np.std([RF.feature_importances_ for tree in RF.estimators_],axis=0)\n",
    "indices = np.argsort(importances)[::-1]\n",
    "\n",
    "# Print the feature ranking\n",
    "print(\"Feature ranking:\")\n",
    "\n",
    "for f in range(Xtraintrain.shape[1]):\n",
    "    print(\"%d. feature %d (%f) \" % (f + 1, indices[f], importances[indices[f]]))\n",
    "\n",
    "# Plot the feature importances of the forest\n",
    "plt.figure()\n",
    "plt.title(\"Feature importances\")\n",
    "plt.bar(range(Xtraintrain.shape[1]), importances[indices],\n",
    "       color=\"r\", yerr=std[indices], align=\"center\")\n",
    "plt.xticks(range(Xtraintrain.shape[1]), indices)\n",
    "plt.xlim([-1, Xtraintrain.shape[1]])\n",
    "#plt.show()"
   ]
  },
  {
   "cell_type": "code",
   "execution_count": 298,
   "metadata": {
    "collapsed": false,
    "deletable": true,
    "editable": true,
    "scrolled": false
   },
   "outputs": [
    {
     "name": "stdout",
     "output_type": "stream",
     "text": [
      "Cross Validation score : \n",
      "0.522295110228\n",
      "rmspe : 0.070294\n"
     ]
    }
   ],
   "source": [
    "#gradient boosting regressor\n",
    "from sklearn.ensemble import GradientBoostingRegressor\n",
    "GBR = GradientBoostingRegressor(n_estimators=100, max_features = \"sqrt\",learning_rate=0.1,\n",
    "       max_depth=1, random_state=42, loss='ls',subsample = 0.8)\n",
    "\n",
    "model_eval(GBR,Xtraintrain, logdistance_traintrain,Xtraintest,logdistance_traintest)"
   ]
  },
  {
   "cell_type": "code",
   "execution_count": 299,
   "metadata": {
    "collapsed": false,
    "deletable": true,
    "editable": true
   },
   "outputs": [
    {
     "data": {
      "text/plain": [
       "array([ 0.14,  0.01,  0.  ,  0.01,  0.03,  0.01,  0.01,  0.  ,  0.01,\n",
       "        0.02,  0.  ,  0.  ,  0.01,  0.03,  0.01,  0.  ,  0.  ,  0.02,\n",
       "        0.  ,  0.  ,  0.  ,  0.06,  0.05,  0.09,  0.05,  0.05,  0.03,\n",
       "        0.  ,  0.09,  0.03,  0.02,  0.  ,  0.01,  0.02,  0.  ,  0.04,\n",
       "        0.01,  0.02,  0.  ,  0.08,  0.03,  0.  ,  0.  ,  0.  ,  0.  ,\n",
       "        0.  ,  0.  ,  0.  ,  0.  ,  0.  ,  0.  ,  0.  ,  0.  ,  0.  ,\n",
       "        0.  ,  0.01,  0.  ,  0.  ,  0.  ,  0.  ,  0.  ,  0.  ,  0.  ,\n",
       "        0.  ,  0.  ,  0.  ,  0.  ,  0.  ,  0.  ,  0.  ,  0.  ,  0.  ])"
      ]
     },
     "execution_count": 299,
     "metadata": {},
     "output_type": "execute_result"
    }
   ],
   "source": [
    "GBR.feature_importances_"
   ]
  },
  {
   "cell_type": "markdown",
   "metadata": {
    "deletable": true,
    "editable": true
   },
   "source": [
    "add the predicted logdistance to the test data"
   ]
  },
  {
   "cell_type": "code",
   "execution_count": 137,
   "metadata": {
    "collapsed": false,
    "deletable": true,
    "editable": true
   },
   "outputs": [],
   "source": [
    "pred_logdistance_traintest = RF.predict(Xtraintest)\n",
    "traintest = traintest.assign(pred_logdistance = pred_logdistance_traintest)"
   ]
  },
  {
   "cell_type": "markdown",
   "metadata": {
    "deletable": true,
    "editable": true
   },
   "source": [
    "## predict duration\n",
    "<br>'LOG_STRAIGHT_DIST',\n",
    "'Day',\n",
    " 'hour',\n",
    " 'start_cluster',\n",
    " 'end_cluster'"
   ]
  },
  {
   "cell_type": "code",
   "execution_count": 122,
   "metadata": {
    "collapsed": false,
    "deletable": true,
    "editable": true
   },
   "outputs": [],
   "source": [
    "Xcol=traintrain.columns[13::]\n",
    "Xtraintrain=traintrain[Xcol].drop([\"hour\"], axis=1)\n",
    "Xtraintest=traintest[Xcol].drop([\"hour\"], axis=1)"
   ]
  },
  {
   "cell_type": "code",
   "execution_count": 123,
   "metadata": {
    "collapsed": false,
    "deletable": true,
    "editable": true,
    "scrolled": true
   },
   "outputs": [
    {
     "name": "stdout",
     "output_type": "stream",
     "text": [
      "Cross Validation score : \n",
      "0.2110678565352913\n",
      "rmspe : 0.332495\n"
     ]
    }
   ],
   "source": [
    "RF_d = RandomForestRegressor(n_estimators =100, max_features = \"sqrt\",bootstrap = True, verbose=0,\n",
    "                            random_state=42,max_depth = 10)\n",
    "\n",
    "model_eval(RF_d,Xtraintrain, logduration_traintrain,Xtraintest,duration_traintest)"
   ]
  },
  {
   "cell_type": "code",
   "execution_count": 312,
   "metadata": {
    "collapsed": false,
    "deletable": true,
    "editable": true
   },
   "outputs": [
    {
     "name": "stdout",
     "output_type": "stream",
     "text": [
      "Feature ranking:\n"
     ]
    },
    {
     "data": {
      "text/plain": [
       "(-1, 60)"
      ]
     },
     "execution_count": 312,
     "metadata": {},
     "output_type": "execute_result"
    },
    {
     "data": {
      "image/png": "[encoded data removed]",
      "text/plain": [
       "<matplotlib.figure.Figure at 0x133b5cc88>"
      ]
     },
     "metadata": {
      "image/png": {
       "height": 265,
       "width": 367
      }
     },
     "output_type": "display_data"
    }
   ],
   "source": [
    "#feature importance \n",
    "importances = RF_d.feature_importances_\n",
    "std = np.std([RF_d.feature_importances_ for tree in RF_d.estimators_],axis=0)\n",
    "indices = np.argsort(importances)[::-1]\n",
    "\n",
    "# Print the feature ranking\n",
    "print(\"Feature ranking:\")\n",
    "\n",
    "#for f in range(Xtraintrain.shape[1]):\n",
    "#    print(\"%d. feature %d (%f)\" % (f + 1, indices[f], importances[indices[f]]))\n",
    "\n",
    "# Plot the feature importances of the forest\n",
    "plt.figure()\n",
    "plt.title(\"Feature importances\")\n",
    "plt.bar(range(Xtraintrain.shape[1]), importances[indices],\n",
    "       color=\"r\", yerr=std[indices], align=\"center\")\n",
    "plt.xticks(range(Xtraintrain.shape[1]), indices)\n",
    "plt.xlim([-1, Xtraintrain.shape[1]])\n",
    "#plt.show()"
   ]
  },
  {
   "cell_type": "code",
   "execution_count": 313,
   "metadata": {
    "collapsed": false,
    "deletable": true,
    "editable": true,
    "scrolled": true
   },
   "outputs": [
    {
     "name": "stdout",
     "output_type": "stream",
     "text": [
      "Cross Validation score : \n",
      "0.172066409272\n",
      "rmspe : 0.061396\n"
     ]
    }
   ],
   "source": [
    "GBR_du = GradientBoostingRegressor(n_estimators=100, max_features = \"sqrt\",learning_rate=0.1,\n",
    "       max_depth=1, random_state=42, loss='ls',subsample = 0.8)\n",
    "\n",
    "model_eval(GBR_du,Xtraintrain, logduration_traintrain,Xtraintest,logduration_traintest)"
   ]
  },
  {
   "cell_type": "markdown",
   "metadata": {
    "deletable": true,
    "editable": true
   },
   "source": [
    "now use \n",
    "<br>'LOG_TRAJ_LENGTH',\n",
    "'Day',\n",
    " 'hour',\n",
    " 'start_cluster',\n",
    " 'end_cluster'"
   ]
  },
  {
   "cell_type": "code",
   "execution_count": 140,
   "metadata": {
    "collapsed": false,
    "deletable": true,
    "editable": true
   },
   "outputs": [],
   "source": [
    "Xcol=traintrain.columns[12::]\n",
    "Xtraintrain=traintrain[Xcol].drop([\"hour\",\"LOG_STRAIGHT_DIST\",\"start_density\",\"end_density\"], axis=1)\n",
    "Xcol=traintest.columns[17::]\n",
    "Xtraintest=traintest[Xcol]\n",
    "#use our predicted distance as log_traj_length\n",
    "Xtraintest.rename(columns={'pred_logdistance': \"LOG_TRAJ_LENGTH\"}, inplace=True)"
   ]
  },
  {
   "cell_type": "code",
   "execution_count": 143,
   "metadata": {
    "collapsed": false,
    "deletable": true,
    "editable": true
   },
   "outputs": [
    {
     "name": "stdout",
     "output_type": "stream",
     "text": [
      "Cross Validation score : \n",
      "0.33707346677984396\n",
      "rmspe : 0.334975\n"
     ]
    }
   ],
   "source": [
    "#duration using approximated distance \n",
    "RF_d2 = RandomForestRegressor(n_estimators =100, max_features = \"sqrt\",bootstrap = True, verbose=0,\n",
    "                            random_state=42,max_depth = 10)\n",
    "\n",
    "model_eval(RF_d2,Xtraintrain, logduration_traintrain,Xtraintest,duration_traintest)"
   ]
  },
  {
   "cell_type": "markdown",
   "metadata": {
    "deletable": true,
    "editable": true
   },
   "source": [
    "## xgboost\n",
    "   gridsearch"
   ]
  },
  {
   "cell_type": "code",
   "execution_count": 18,
   "metadata": {
    "collapsed": true
   },
   "outputs": [],
   "source": [
    "Xcol = train.columns[13:]\n",
    "Xfinal=train[Xcol].drop([\"hour\"], axis=1)\n",
    "Xtest=test[Xcol].drop([\"hour\"], axis=1)\n",
    "\n",
    "#y: logdistance\n",
    "y_logdistance = train[\"LOG_TRAJ_LENGTH\"]\n",
    "\n",
    "# y: logduration\n",
    "y_logduration = train[\"LOG_DURATION\"]"
   ]
  },
  {
   "cell_type": "code",
   "execution_count": null,
   "metadata": {
    "collapsed": true
   },
   "outputs": [],
   "source": [
    "# for distance:"
   ]
  },
  {
   "cell_type": "code",
   "execution_count": 21,
   "metadata": {
    "collapsed": false
   },
   "outputs": [
    {
     "data": {
      "text/plain": [
       "([mean: -0.08211, std: 0.00065, params: {'n_estimators': 100},\n",
       "  mean: -0.08051, std: 0.00060, params: {'n_estimators': 150},\n",
       "  mean: -0.07957, std: 0.00057, params: {'n_estimators': 200},\n",
       "  mean: -0.07897, std: 0.00059, params: {'n_estimators': 250}],\n",
       " {'n_estimators': 250},\n",
       " -0.07896836466622012)"
      ]
     },
     "execution_count": 21,
     "metadata": {},
     "output_type": "execute_result"
    }
   ],
   "source": [
    "import xgboost as xgb\n",
    "from sklearn.model_selection import GridSearchCV\n",
    "#for the first parameter, we try to look for the best n_estimators under learning_rate = 0.1\n",
    "\n",
    "param_test1 = {'n_estimators':range(100,300,50)}\n",
    "gsearch1 = GridSearchCV(estimator = xgb.XGBRegressor(max_depth=6, learning_rate=0.1, \n",
    "                                     objective='reg:linear', booster='gbtree',  \n",
    "                                     gamma=0, min_child_weight=1, subsample=0.8, \n",
    "                                     colsample_bytree=0.8, reg_alpha=0, reg_lambda=1, \n",
    "                                     scale_pos_weight=1, random_state=42, seed=42), \n",
    "                       param_grid = param_test1, scoring='neg_mean_squared_error',iid=False,cv=5)\n",
    "gsearch1.fit(Xfinal,y_logdistance)\n",
    "gsearch1.grid_scores_, gsearch1.best_params_, gsearch1.best_score_"
   ]
  },
  {
   "cell_type": "code",
   "execution_count": null,
   "metadata": {
    "collapsed": false
   },
   "outputs": [],
   "source": [
    "#We then use the best estimated n_estimators(250) and search for the best max_depth\n",
    "param_test2 = {\n",
    " 'max_depth':range(10,15,2),\n",
    " 'min_child_weight':range(1,6,2)\n",
    "}\n",
    "gsearch2 = GridSearchCV(estimator = xgb.XGBRegressor(n_estimators = 200, learning_rate=0.1, \n",
    "                                     objective='reg:linear', booster='gbtree',  \n",
    "                                     gamma=0, subsample=0.8, \n",
    "                                     colsample_bytree=0.8, reg_alpha=0, reg_lambda=1, \n",
    "                                     scale_pos_weight=1, random_state=42, seed=42), \n",
    "                       param_grid = param_test2, scoring='neg_mean_squared_error',iid=False,cv=5)\n",
    "gsearch2.fit(Xfinal,y_logdistance)\n",
    "gsearch2.grid_scores_, gsearch2.best_params_, gsearch2.best_score_"
   ]
  },
  {
   "cell_type": "code",
   "execution_count": 26,
   "metadata": {
    "collapsed": false
   },
   "outputs": [
    {
     "ename": "SyntaxError",
     "evalue": "invalid character in identifier (<ipython-input-26-3a56ec45bed8>, line 5)",
     "output_type": "error",
     "traceback": [
      "\u001b[0;36m  File \u001b[0;32m\"<ipython-input-26-3a56ec45bed8>\"\u001b[0;36m, line \u001b[0;32m5\u001b[0m\n\u001b[0;31m    gsearch3 = GridSearchCV(estimator = xgb.XGBRegressor(n_estimators = 250, max_depth=6，min_child_weight=1，\u001b[0m\n\u001b[0m                                                                                                        ^\u001b[0m\n\u001b[0;31mSyntaxError\u001b[0m\u001b[0;31m:\u001b[0m invalid character in identifier\n"
     ]
    }
   ],
   "source": [
    "#gamma\n",
    "param_test3 = {\n",
    " 'gamma':[i/10.0 for i in range(0,4)]\n",
    "}\n",
    "gsearch3 = GridSearchCV(estimator = xgb.XGBRegressor(n_estimators = 250, max_depth=9，min_child_weight=1,\n",
    "                                     learning_rate=0.1, objective='reg:linear', booster='gbtree',  \n",
    "                                     subsample=0.8, colsample_bytree=0.8, reg_alpha=0, reg_lambda=1, \n",
    "                                     scale_pos_weight=1, random_state=42, seed=42), \n",
    "                       param_grid = param_test3, scoring='neg_mean_squared_error',iid=False,cv=5)\n",
    "gsearch3.fit(Xfinal,y_logdistance)\n",
    "gsearch3.grid_scores_, gsearch3.best_params_, gsearch3.best_score_"
   ]
  },
  {
   "cell_type": "code",
   "execution_count": null,
   "metadata": {
    "collapsed": true
   },
   "outputs": [],
   "source": [
    "#subsample, colsample_bytree\n",
    "param_test4 = {\n",
    " 'subsample':[i/10.0 for i in range(6,10)],\n",
    " 'colsample_bytree':[i/10.0 for i in range(6,10)]\n",
    "}\n",
    "gsearch4 = GridSearchCV(estimator = xgb.XGBRegressor(n_estimators = 250, max_depth=6，min_child_weight=1,\n",
    "                                     gamma=0, learning_rate=0.1, objective='reg:linear', booster='gbtree',  \n",
    "                                     reg_alpha=0, reg_lambda=1, \n",
    "                                     scale_pos_weight=1, random_state=42, seed=42), \n",
    "                       param_grid = param_test4, scoring='neg_mean_squared_error',iid=False,cv=5)\n",
    "gsearch4.fit(Xfinal,y_logdistance)\n",
    "gsearch4.grid_scores_, gsearch4.best_params_, gsearch4.best_score_"
   ]
  },
  {
   "cell_type": "code",
   "execution_count": null,
   "metadata": {
    "collapsed": true
   },
   "outputs": [],
   "source": [
    "param_test5 = {\n",
    " 'reg_alpha':[0, 0.001, 0.005, 0.01, 0.05]\n",
    "}\n",
    "gsearch5 = GridSearchCV(estimator = xgb.XGBRegressor(n_estimators = 250, max_depth=6，min_child_weight=1,\n",
    "                                     gamma=0, subsample=0.8, colsample_bytree=0.8,\n",
    "                                    learning_rate=0.1, objective='reg:linear', booster='gbtree',  \n",
    "                                    reg_lambda=1, \n",
    "                                    scale_pos_weight=1, random_state=42, seed=42), \n",
    "                       param_grid = param_test5, scoring='neg_mean_squared_error',iid=False,cv=5)\n",
    "gsearch5.fit(Xfinal,y_logdistance)\n",
    "gsearch5.grid_scores_, gsearch5.best_params_, gsearch5.best_score_"
   ]
  },
  {
   "cell_type": "code",
   "execution_count": null,
   "metadata": {
    "collapsed": true
   },
   "outputs": [],
   "source": [
    "# for duration"
   ]
  },
  {
   "cell_type": "code",
   "execution_count": null,
   "metadata": {
    "collapsed": true
   },
   "outputs": [],
   "source": [
    "param_test6 = {'n_estimators':range(100,300,50)}\n",
    "gsearch6 = GridSearchCV(estimator = xgb.XGBRegressor(max_depth=6, learning_rate=0.1, \n",
    "                                     objective='reg:linear', booster='gbtree',  \n",
    "                                     gamma=0, min_child_weight=1, subsample=0.8, \n",
    "                                     colsample_bytree=0.8, reg_alpha=0, reg_lambda=1, \n",
    "                                     scale_pos_weight=1, random_state=42, seed=42), \n",
    "                       param_grid = param_test6, scoring='neg_mean_squared_error',iid=False,cv=5)\n",
    "gsearch6.fit(Xfinal,y_logduration)\n",
    "gsearch6.grid_scores_, gsearch6.best_params_, gsearch6.best_score_"
   ]
  },
  {
   "cell_type": "code",
   "execution_count": null,
   "metadata": {
    "collapsed": true
   },
   "outputs": [],
   "source": [
    "param_test7 = {\n",
    " 'max_depth':range(3,10,2),\n",
    " 'min_child_weight':range(1,6,2)\n",
    "}\n",
    "gsearch7 = GridSearchCV(estimator = xgb.XGBRegressor(n_estimators = 250, learning_rate=0.1, \n",
    "                                     objective='reg:linear', booster='gbtree',  \n",
    "                                     gamma=0, subsample=0.8, \n",
    "                                     colsample_bytree=0.8, reg_alpha=0, reg_lambda=1, \n",
    "                                     scale_pos_weight=1, random_state=42, seed=42), \n",
    "                       param_grid = param_test7, scoring='neg_mean_squared_error',iid=False,cv=5)\n",
    "gsearch7.fit(Xfinal,y_logduration)\n",
    "gsearch7.grid_scores_, gsearch7.best_params_, gsearch7.best_score_"
   ]
  },
  {
   "cell_type": "code",
   "execution_count": null,
   "metadata": {
    "collapsed": true
   },
   "outputs": [],
   "source": [
    "#gamma\n",
    "param_test8 = {\n",
    " 'gamma':[i/10.0 for i in range(0,4)]\n",
    "}\n",
    "gsearch8 = GridSearchCV(estimator = xgb.XGBRegressor(n_estimators = 250, max_depth=6，min_child_weight=1,\n",
    "                                     learning_rate=0.1, objective='reg:linear', booster='gbtree',  \n",
    "                                     subsample=0.8, colsample_bytree=0.8, reg_alpha=0, reg_lambda=1, \n",
    "                                     scale_pos_weight=1, random_state=42, seed=42), \n",
    "                       param_grid = param_test8, scoring='neg_mean_squared_error',iid=False,cv=5)\n",
    "gsearch8.fit(Xfinal,y_logduration)\n",
    "gsearch8.grid_scores_, gsearch8.best_params_, gsearch8.best_score_"
   ]
  },
  {
   "cell_type": "code",
   "execution_count": null,
   "metadata": {
    "collapsed": true
   },
   "outputs": [],
   "source": [
    "#subsample, colsample_bytree\n",
    "param_test9 = {\n",
    " 'subsample':[i/10.0 for i in range(6,10)],\n",
    " 'colsample_bytree':[i/10.0 for i in range(6,10)]\n",
    "}\n",
    "gsearch9 = GridSearchCV(estimator = xgb.XGBRegressor(n_estimators = 250, max_depth=6，min_child_weight=1,\n",
    "                                     gamma=0, learning_rate=0.1, objective='reg:linear', booster='gbtree',  \n",
    "                                     reg_alpha=0, reg_lambda=1, \n",
    "                                     scale_pos_weight=1, random_state=42, seed=42), \n",
    "                       param_grid = param_test9, scoring='neg_mean_squared_error',iid=False,cv=5)\n",
    "gsearch9.fit(Xfinal,y_logdistance)\n",
    "gsearch9.grid_scores_, gsearch9.best_params_, gsearch9.best_score_"
   ]
  },
  {
   "cell_type": "code",
   "execution_count": null,
   "metadata": {
    "collapsed": true
   },
   "outputs": [],
   "source": [
    "param_test10 = {\n",
    " 'reg_alpha':[0, 0.001, 0.005, 0.01, 0.05]\n",
    "}\n",
    "gsearch10 = GridSearchCV(estimator = xgb.XGBRegressor(n_estimators = 250, max_depth=6，min_child_weight=1,\n",
    "                                     gamma=0, subsample=0.8, colsample_bytree=0.8,\n",
    "                                    learning_rate=0.1, objective='reg:linear', booster='gbtree',  \n",
    "                                    reg_lambda=1, \n",
    "                                    scale_pos_weight=1, random_state=42, seed=42), \n",
    "                       param_grid = param_test10, scoring='neg_mean_squared_error',iid=False,cv=5)\n",
    "gsearch10.fit(Xfinal,y_logdistance)\n",
    "gsearch10.grid_scores_, gsearch10.best_params_, gsearch10.best_score_"
   ]
  },
  {
   "cell_type": "markdown",
   "metadata": {
    "deletable": true,
    "editable": true
   },
   "source": [
    "# final model"
   ]
  },
  {
   "cell_type": "code",
   "execution_count": 16,
   "metadata": {
    "collapsed": false,
    "deletable": true,
    "editable": true
   },
   "outputs": [],
   "source": [
    "final_dis = xgb.XGBRegressor(n_estimators = 250, max_depth=6，min_child_weight=1,\n",
    "                                     gamma=0, subsample=0.8, colsample_bytree=0.8,\n",
    "                                    learning_rate=0.1, objective='reg:linear', booster='gbtree',  \n",
    "                                    reg_lambda=1, #lambda\n",
    "                                    scale_pos_weight=1, random_state=42, seed=42)\n",
    "final_du = xgb.XGBRegressor(n_estimators = 250, max_depth=6，min_child_weight=1,\n",
    "                                     gamma=0, subsample=0.8, colsample_bytree=0.8,\n",
    "                                    learning_rate=0.1, objective='reg:linear', booster='gbtree',  \n",
    "                                    reg_lambda=1, #lambda\n",
    "                                    scale_pos_weight=1, random_state=42, seed=42)"
   ]
  },
  {
   "cell_type": "code",
   "execution_count": 34,
   "metadata": {
    "collapsed": false,
    "deletable": true,
    "editable": true
   },
   "outputs": [],
   "source": [
    "# predict distance\n",
    "final_dis.fit(Xfinal, y_logdistance)\n",
    "pred_distance = np.exp(final_dis.predict(Xtest))"
   ]
  },
  {
   "cell_type": "code",
   "execution_count": 35,
   "metadata": {
    "collapsed": false,
    "deletable": true,
    "editable": true
   },
   "outputs": [],
   "source": [
    "# predict duration\n",
    "final_du.fit(Xfinal, y_logduration)\n",
    "pred_duration = np.exp(final_du.predict(Xtest))"
   ]
  },
  {
   "cell_type": "code",
   "execution_count": 36,
   "metadata": {
    "collapsed": false,
    "deletable": true,
    "editable": true
   },
   "outputs": [],
   "source": [
    "pred_price = pred_duration + pred_distance\n",
    "keys = test [\"ID\"]\n",
    "dictionary = dict(zip(keys, list(pred_price)))"
   ]
  },
  {
   "cell_type": "code",
   "execution_count": 37,
   "metadata": {
    "collapsed": false,
    "deletable": true,
    "editable": true
   },
   "outputs": [],
   "source": [
    "import csv\n",
    "with open('my_file.csv', 'w') as f:\n",
    "    [f.write('{0},{1}\\n'.format(key, value)) for key, value in dictionary.items()]\n",
    "    \n",
    "# note: need to manually add the ID and PRICE heading"
   ]
  },
  {
   "cell_type": "code",
   "execution_count": 38,
   "metadata": {
    "collapsed": false,
    "deletable": true,
    "editable": true,
    "scrolled": true
   },
   "outputs": [
    {
     "data": {
      "text/plain": [
       "array([297.52747, 290.4405 , 480.3279 , ..., 497.80887, 268.54373,\n",
       "       367.07062], dtype=float32)"
      ]
     },
     "execution_count": 38,
     "metadata": {},
     "output_type": "execute_result"
    }
   ],
   "source": [
    "pred_price"
   ]
  }
 ],
 "metadata": {
  "kernelspec": {
   "display_name": "Python 3",
   "language": "python",
   "name": "python3"
  },
  "language_info": {
   "codemirror_mode": {
    "name": "ipython",
    "version": 3
   },
   "file_extension": ".py",
   "mimetype": "text/x-python",
   "name": "python",
   "nbconvert_exporter": "python",
   "pygments_lexer": "ipython3",
   "version": "3.4.3"
  }
 },
 "nbformat": 4,
 "nbformat_minor": 2
}
