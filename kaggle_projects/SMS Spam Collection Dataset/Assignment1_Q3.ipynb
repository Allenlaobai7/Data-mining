{
 "cells": [
  {
   "cell_type": "markdown",
   "metadata": {},
   "source": [
    "# Q1：SMS Spam Collection Dataset"
   ]
  },
  {
   "cell_type": "code",
   "execution_count": 1,
   "metadata": {},
   "outputs": [],
   "source": [
    "import pandas as pd\n",
    "import numpy as np\n",
    "import matplotlib.pyplot as plt\n",
    "import nltk\n",
    "import sklearn as sklearn\n",
    "%matplotlib inline\n",
    "import warnings\n",
    "warnings.filterwarnings('ignore')\n",
    "%config InlineBackend.figure_format = 'retina'"
   ]
  },
  {
   "cell_type": "markdown",
   "metadata": {},
   "source": [
    "# 1. Import data "
   ]
  },
  {
   "cell_type": "code",
   "execution_count": 2,
   "metadata": {},
   "outputs": [
    {
     "name": "stdout",
     "output_type": "stream",
     "text": [
      "/Users/Allen/Documents/ST4240/dataset\n"
     ]
    }
   ],
   "source": [
    "%cd /Users/Allen/Documents/ST4240/dataset\n",
    "data = pd.read_csv(\"spam.csv\",encoding='latin-1')\n",
    "#Drop column and name change\n",
    "data = data.drop([\"Unnamed: 2\", \"Unnamed: 3\", \"Unnamed: 4\"], axis=1)\n",
    "data = data.rename(columns={\"v1\":\"label\", \"v2\":\"text\"})\n",
    "\n",
    "from sklearn.preprocessing import LabelEncoder\n",
    "le = sklearn.preprocessing.LabelEncoder()\n",
    "le.fit(data[\"label\"])\n",
    "data[\"label\"] = le.transform(data[\"label\"])    #change the labels to 0 and 1 "
   ]
  },
  {
   "cell_type": "markdown",
   "metadata": {
    "collapsed": true
   },
   "source": [
    "# 2. Create training and testing set"
   ]
  },
  {
   "cell_type": "code",
   "execution_count": 3,
   "metadata": {},
   "outputs": [],
   "source": [
    "from sklearn.model_selection import train_test_split\n",
    "train,test = train_test_split(data, test_size = 0.3, random_state = 42,\n",
    "                                               shuffle=True, stratify= data[\"label\"] )   #select balanced sample\n",
    "X_train = train[\"text\"]\n",
    "X_test = test[\"text\"]\n",
    "y_train = train[\"label\"]\n",
    "y_test = test[\"label\"]\n",
    "#Separate the training set to \"ham\" and \"spam\" \n",
    "train_ham = train.loc[train.label == 0]\n",
    "train_spam = train.loc[train.label == 1]"
   ]
  },
  {
   "cell_type": "markdown",
   "metadata": {},
   "source": [
    "# 3. Examine words in two categories \n",
    "After converting all words to lower case, we use the RegexpTokenizer from nltk to tokenize words and remove all punctuations. \n",
    "After tokenising the words, we use WordNetLemmatizer as the stemming method to convert the words to their lemma and combine similar wordings. \n",
    "Lastly, we remove stopwords and natural numbers and create a list with all the remaining words. "
   ]
  },
  {
   "cell_type": "code",
   "execution_count": 4,
   "metadata": {},
   "outputs": [],
   "source": [
    "from nltk.corpus import stopwords\n",
    "from nltk.tokenize import RegexpTokenizer \n",
    "tokenizer = RegexpTokenizer(r'\\w+') #tokenize words while removing punctuations\n",
    "from nltk.stem import WordNetLemmatizer \n",
    "lemmatizer = WordNetLemmatizer() #to combine words of same lemma "
   ]
  },
  {
   "cell_type": "code",
   "execution_count": 5,
   "metadata": {
    "scrolled": true
   },
   "outputs": [],
   "source": [
    "hamword = []\n",
    "for i in train_ham.text:\n",
    "    words = i.lower()\n",
    "    words = tokenizer.tokenize(words)\n",
    "    for j in words:\n",
    "        if j not in stopwords.words(\"english\"):\n",
    "            if not j.isdigit():\n",
    "                j = lemmatizer.lemmatize(j)\n",
    "                hamword.append(j)\n",
    "            \n",
    "spamword = []\n",
    "for i in train_spam.text:\n",
    "    words = i.lower()\n",
    "    words = tokenizer.tokenize(words)\n",
    "    for j in words:\n",
    "        if j not in stopwords.words(\"english\"):\n",
    "            if not j.isdigit():\n",
    "                j = lemmatizer.lemmatize(j)\n",
    "                spamword.append(j)      "
   ]
  },
  {
   "cell_type": "markdown",
   "metadata": {},
   "source": [
    "Examine the top 10 words occurring in both \"Spam\" and \"ham\" messages in Xtrain"
   ]
  },
  {
   "cell_type": "code",
   "execution_count": 6,
   "metadata": {},
   "outputs": [
    {
     "data": {
      "text/plain": [
       "[('u', 747),\n",
       " ('gt', 233),\n",
       " ('lt', 230),\n",
       " ('get', 219),\n",
       " ('go', 198),\n",
       " ('ok', 189),\n",
       " ('call', 183),\n",
       " ('know', 179),\n",
       " ('ur', 170),\n",
       " ('got', 170)]"
      ]
     },
     "execution_count": 6,
     "metadata": {},
     "output_type": "execute_result"
    }
   ],
   "source": [
    "from collections import Counter\n",
    "Counter(hamword).most_common(10)"
   ]
  },
  {
   "cell_type": "code",
   "execution_count": 7,
   "metadata": {},
   "outputs": [
    {
     "data": {
      "text/plain": [
       "[('call', 250),\n",
       " ('å', 198),\n",
       " ('free', 166),\n",
       " ('u', 124),\n",
       " ('txt', 120),\n",
       " ('ur', 105),\n",
       " ('text', 104),\n",
       " ('stop', 89),\n",
       " ('mobile', 86),\n",
       " ('claim', 79)]"
      ]
     },
     "execution_count": 7,
     "metadata": {},
     "output_type": "execute_result"
    }
   ],
   "source": [
    "Counter(spamword).most_common(10)"
   ]
  },
  {
   "cell_type": "markdown",
   "metadata": {},
   "source": [
    "From the two tables we observe that there are some common terms like \"u\" and \"call\", but there are also words like \"free\", \"text\" and \"stop\" that tend to appear in spam messages.\n",
    "\n",
    "# 4. Vectorizing Xtrain and Xtest \n",
    "To prepare the training data for model building, we use vectorizer from sklearn.feature_extraction to convert Xtrain and Xtest to Compressed Sparse matrix.\n",
    "We use TfidfVectorizer with stopword, select\"idf\"=True to reduce the weights of frequently occurred words, so that they will have less impact in the model."
   ]
  },
  {
   "cell_type": "code",
   "execution_count": 8,
   "metadata": {},
   "outputs": [],
   "source": [
    "from sklearn.feature_extraction.text import TfidfVectorizer\n",
    "vectorizer = TfidfVectorizer(stop_words='english',lowercase=True,use_idf=True)"
   ]
  },
  {
   "cell_type": "code",
   "execution_count": 9,
   "metadata": {},
   "outputs": [
    {
     "name": "stdout",
     "output_type": "stream",
     "text": [
      "(3900, 6946) (1672, 6946)\n"
     ]
    }
   ],
   "source": [
    "Xtrain = vectorizer.fit_transform(X_train)\n",
    "Xtest = vectorizer.transform(X_test) #use the fitted vectorizer to transform X_test \n",
    "print(Xtrain.shape,Xtest.shape)"
   ]
  },
  {
   "cell_type": "markdown",
   "metadata": {},
   "source": [
    "# 5. Model Building \n",
    "##  5.1 Benchmark model: Multinomial Naivebayes \n",
    "For our benchmark model we build a Multinomail naivebayes model and examine the performance metrics.\n",
    "\n",
    "Side note: From Sklearn documentation, we learnt that BernoulliNaiveBayes is also useful with short documents and binary features. \n",
    "By choosing (\"binary\" = True) and (\"use_idf\"=False) in TfidfVectorizer, we managed to obtain the transformed data \n",
    "as occurrence(0 or 1) instead of count. The prediction result is similar to MultinomialNB, and hence we stick to\n",
    "MultinomialNB to allow for easier comparisons among models."
   ]
  },
  {
   "cell_type": "code",
   "execution_count": 10,
   "metadata": {
    "collapsed": true
   },
   "outputs": [],
   "source": [
    "from sklearn.metrics import accuracy_score,confusion_matrix,classification_report,auc"
   ]
  },
  {
   "cell_type": "code",
   "execution_count": 11,
   "metadata": {},
   "outputs": [],
   "source": [
    "from sklearn.naive_bayes import MultinomialNB\n",
    "NB = MultinomialNB()\n",
    "NB.fit(Xtrain,y_train)\n",
    "NB_pred = NB.predict(Xtest)\n",
    "NB_pred_proba = NB.predict_proba(Xtest)"
   ]
  },
  {
   "cell_type": "code",
   "execution_count": 12,
   "metadata": {},
   "outputs": [
    {
     "name": "stdout",
     "output_type": "stream",
     "text": [
      "prediciton Accuracy : 0.968301\n"
     ]
    }
   ],
   "source": [
    "print (\"prediciton Accuracy : %f\" % accuracy_score(y_test, NB_pred))"
   ]
  },
  {
   "cell_type": "code",
   "execution_count": 13,
   "metadata": {
    "scrolled": false
   },
   "outputs": [
    {
     "data": {
      "image/png": "[encoded data removed]",
      "text/plain": [
       "<matplotlib.figure.Figure at 0x10bcf6e10>"
      ]
     },
     "metadata": {
      "image/png": {
       "height": 280,
       "width": 389
      }
     },
     "output_type": "display_data"
    },
    {
     "name": "stdout",
     "output_type": "stream",
     "text": [
      "AUC Score : 0.987751\n"
     ]
    }
   ],
   "source": [
    "#Plot the ROC curve to examine the performance of the model \n",
    "import scikitplot as skplt\n",
    "import matplotlib.pyplot as plt\n",
    "\n",
    "skplt.metrics.plot_roc_curve(y_test, NB_pred_proba)\n",
    "plt.show()\n",
    "print (\"AUC Score : %f\" % sklearn.metrics.roc_auc_score(y_test, NB_pred_proba[:,1]))"
   ]
  },
  {
   "cell_type": "markdown",
   "metadata": {},
   "source": [
    "While both prediction accuracy(0.968301) and ROC curve(AUC=0.987751) suggest that the model performs very well in classifying the two messages, we continue to examine the confusion matrix and classification report to analyse the results closely. \n",
    "To visualize these two reports we use two function online. (see reference)"
   ]
  },
  {
   "cell_type": "code",
   "execution_count": 14,
   "metadata": {},
   "outputs": [
    {
     "name": "stdout",
     "output_type": "stream",
     "text": [
      "Confusion matrix, without normalization\n",
      "[[1448    0]\n",
      " [  53  171]]\n"
     ]
    },
    {
     "data": {
      "image/png": "[encoded data removed]",
      "text/plain": [
       "<matplotlib.figure.Figure at 0x11183ff28>"
      ]
     },
     "metadata": {
      "image/png": {
       "height": 294,
       "width": 334
      }
     },
     "output_type": "display_data"
    }
   ],
   "source": [
    "#Confusion Matrix\n",
    "import itertools\n",
    "def plot_confusion_matrix(cm, classes,\n",
    "                          normalize=False,\n",
    "                          title='Confusion matrix',\n",
    "                          cmap=plt.cm.Blues):\n",
    "    print('Confusion matrix, without normalization')\n",
    "    print(cm)\n",
    "    plt.imshow(cm, interpolation='nearest', cmap=cmap)\n",
    "    plt.title(title)\n",
    "    plt.colorbar()\n",
    "    tick_marks = np.arange(len(classes))\n",
    "    plt.xticks(tick_marks, classes, rotation=45)\n",
    "    plt.yticks(tick_marks, classes)\n",
    "\n",
    "    fmt = 'd'\n",
    "    thresh = cm.max() / 2.\n",
    "    for i, j in itertools.product(range(cm.shape[0]), range(cm.shape[1])):\n",
    "        plt.text(j, i, format(cm[i, j], fmt),\n",
    "                 horizontalalignment=\"center\",\n",
    "                 color=\"white\" if cm[i, j] > thresh else \"black\")\n",
    "    plt.tight_layout()\n",
    "    plt.ylabel('True label')\n",
    "    plt.xlabel('Predicted label')\n",
    "plt.figure()\n",
    "plot_confusion_matrix(confusion_matrix(y_test,NB_pred), classes=['0', '1'], normalize=False,\n",
    "                      title='Normalized confusion matrix')\n",
    "plt.show()"
   ]
  },
  {
   "cell_type": "code",
   "execution_count": 15,
   "metadata": {},
   "outputs": [
    {
     "name": "stdout",
     "output_type": "stream",
     "text": [
      "             precision    recall  f1-score   support\n",
      "\n",
      "          0       0.96      1.00      0.98      1448\n",
      "          1       1.00      0.76      0.87       224\n",
      "\n",
      "avg / total       0.97      0.97      0.97      1672\n",
      "\n"
     ]
    }
   ],
   "source": [
    "#Classification table\n",
    "def plot_classification_report(cr, title='Classification report ', with_avg_total=False, cmap=plt.cm.Blues):\n",
    "    lines = cr.split('\\n')\n",
    "    classes = []\n",
    "    plotMat = []\n",
    "    for line in lines[2 : (len(lines) - 3)]:\n",
    "        t = line.split()\n",
    "        classes.append(t[0])\n",
    "        v = [float(x) for x in t[1: len(t) - 1]]\n",
    "        print(v)\n",
    "        plotMat.append(v)\n",
    "    if with_avg_total:\n",
    "        aveTotal = lines[len(lines) - 1].split()\n",
    "        classes.append('avg/total')\n",
    "        vAveTotal = [float(x) for x in t[1:len(aveTotal) - 1]]\n",
    "        plotMat.append(vAveTotal)\n",
    "    plt.imshow(plotMat, interpolation='nearest', cmap=cmap)\n",
    "    plt.title(title)\n",
    "    plt.colorbar()\n",
    "    x_tick_marks = np.arange(3)\n",
    "    y_tick_marks = np.arange(len(classes))\n",
    "    plt.xticks(x_tick_marks, ['precision', 'recall', 'f1-score'], rotation=45)\n",
    "    plt.yticks(y_tick_marks, classes)\n",
    "    plt.tight_layout()\n",
    "    plt.ylabel('Classes')\n",
    "    plt.xlabel('Measures')\n",
    "print(classification_report(y_test, NB_pred, labels=['0', '1']))"
   ]
  },
  {
   "cell_type": "code",
   "execution_count": 16,
   "metadata": {
    "scrolled": false
   },
   "outputs": [
    {
     "name": "stdout",
     "output_type": "stream",
     "text": [
      "[0.96, 1.0, 0.98]\n",
      "[1.0, 0.76, 0.87]\n"
     ]
    },
    {
     "data": {
      "image/png": "[encoded data removed]",
      "text/plain": [
       "<matplotlib.figure.Figure at 0x111829cf8>"
      ]
     },
     "metadata": {
      "image/png": {
       "height": 303,
       "width": 422
      }
     },
     "output_type": "display_data"
    }
   ],
   "source": [
    "plot_classification_report(classification_report(y_test, NB_pred, labels=['0', '1']))"
   ]
  },
  {
   "cell_type": "code",
   "execution_count": 17,
   "metadata": {},
   "outputs": [
    {
     "name": "stdout",
     "output_type": "stream",
     "text": [
      "ham vs spam = 6.45697896749522\n"
     ]
    }
   ],
   "source": [
    "#class ratio:\n",
    "print(\"ham vs spam =\",Counter(y_train)[0]/Counter(y_train)[1])"
   ]
  },
  {
   "cell_type": "markdown",
   "metadata": {},
   "source": [
    "- From the confusion matrix, we see that all \"ham\" messages are correctly classfied while only 77% of the \"spam\" messages are correctly classified. The low accuracy of predicting \"spam\" is not reflected in the accuracy metric and ROC curve. \n",
    "\n",
    "- From the classification report, we can tell that the precision of spam is perfect. However, we observe imbalance in the dataset as there are much more \"ham\" messages than \"spam\" messages. Therefore the low prediciton accuracy of \"spam\" messages is mitigated. \n",
    "\n",
    "- Therefore, during model training, we should adjust the weights of the two categories. \n",
    "We now try to use different models to look for improvement of result. "
   ]
  },
  {
   "cell_type": "code",
   "execution_count": 31,
   "metadata": {
    "collapsed": true
   },
   "outputs": [],
   "source": [
    "#define a function for performance metrics\n",
    "def model_eval(model,Xtrain,y_train, Xtest,y_test):\n",
    "    pred = model.predict(Xtest)\n",
    "    print (\"Cross Validation score : \")\n",
    "    print (cross_val_score(model, Xtrain, y_train, cv=5).mean())\n",
    "    if not str(model)[:3] == \"SGD\":\n",
    "        pred_proba = model.predict_proba(Xtest)\n",
    "        pred_proba_c1 = pred_proba[:,1]\n",
    "        print (\"AUC Score : %f\" % sklearn.metrics.roc_auc_score(y_test, pred_proba_c1))\n",
    "    print (\"prediciton Accuracy : %f\" % accuracy_score(y_test, pred))\n",
    "    print (\"Confusion_matrix : \")\n",
    "    print (confusion_matrix(y_test,pred))\n",
    "    print (\"classification report : \")\n",
    "    print (classification_report(y_test, pred, labels=['0', '1']))"
   ]
  },
  {
   "cell_type": "markdown",
   "metadata": {},
   "source": [
    "## 5.2 Logistic regression (with Cross Validation)"
   ]
  },
  {
   "cell_type": "code",
   "execution_count": 32,
   "metadata": {},
   "outputs": [
    {
     "name": "stdout",
     "output_type": "stream",
     "text": [
      "Cross Validation score : \n",
      "0.979232057184\n",
      "AUC Score : 0.981024\n",
      "prediciton Accuracy : 0.979665\n",
      "Confusion_matrix : \n",
      "[[1434   14]\n",
      " [  20  204]]\n",
      "classification report : \n",
      "             precision    recall  f1-score   support\n",
      "\n",
      "          0       0.99      0.99      0.99      1448\n",
      "          1       0.94      0.91      0.92       224\n",
      "\n",
      "avg / total       0.98      0.98      0.98      1672\n",
      "\n"
     ]
    }
   ],
   "source": [
    "from sklearn.linear_model import LogisticRegressionCV\n",
    "#\"liblinear\" is suitable for small dataset, use L1(Lasso) regularization to reduce dimensions, adjust weights\n",
    "LRcv = LogisticRegressionCV(solver=\"liblinear\",penalty = \"l1\",class_weight =\"balanced\")  \n",
    "LRcv.fit(Xtrain,y_train)\n",
    "model_eval(LRcv,Xtrain, y_train, Xtest,y_test)"
   ]
  },
  {
   "cell_type": "markdown",
   "metadata": {},
   "source": [
    "## 5.3 Random Forest Classifier"
   ]
  },
  {
   "cell_type": "code",
   "execution_count": 33,
   "metadata": {
    "scrolled": true
   },
   "outputs": [
    {
     "name": "stdout",
     "output_type": "stream",
     "text": [
      "RF.oob_score : 0.976154\n",
      "Cross Validation score : \n",
      "0.976671239408\n",
      "AUC Score : 0.979422\n",
      "prediciton Accuracy : 0.975478\n",
      "Confusion_matrix : \n",
      "[[1448    0]\n",
      " [  41  183]]\n",
      "classification report : \n",
      "             precision    recall  f1-score   support\n",
      "\n",
      "          0       0.97      1.00      0.99      1448\n",
      "          1       1.00      0.82      0.90       224\n",
      "\n",
      "avg / total       0.98      0.98      0.97      1672\n",
      "\n"
     ]
    }
   ],
   "source": [
    "#random forest works well when number of features is huge.\n",
    "from sklearn.ensemble import RandomForestClassifier\n",
    "from sklearn.cross_validation import cross_val_score\n",
    "RF = RandomForestClassifier(n_estimators =100, max_features = \"sqrt\",bootstrap = True, oob_score=True,verbose=0,\n",
    "                            class_weight = \"balanced\",random_state=42,max_depth = 40)\n",
    "RF.fit(Xtrain,y_train)\n",
    "print(\"RF.oob_score : %f\" % RF.oob_score_)\n",
    "model_eval(RF,Xtrain, y_train,Xtest,y_test)"
   ]
  },
  {
   "cell_type": "markdown",
   "metadata": {},
   "source": [
    "Random forest does not perform very well since this is a very sparse matrix, the effetiveness of separating nodes are not good enough since many words just occurred in few documents. \n",
    "\n",
    "## 5.4 Gradient Boosting Classifier"
   ]
  },
  {
   "cell_type": "code",
   "execution_count": 34,
   "metadata": {
    "scrolled": true
   },
   "outputs": [
    {
     "name": "stdout",
     "output_type": "stream",
     "text": [
      "Cross Validation score : \n",
      "0.976927649664\n",
      "AUC Score : 0.988724\n",
      "prediciton Accuracy : 0.977871\n",
      "Confusion_matrix : \n",
      "[[1446    2]\n",
      " [  35  189]]\n",
      "classification report : \n",
      "             precision    recall  f1-score   support\n",
      "\n",
      "          0       0.98      1.00      0.99      1448\n",
      "          1       0.99      0.84      0.91       224\n",
      "\n",
      "avg / total       0.98      0.98      0.98      1672\n",
      "\n"
     ]
    }
   ],
   "source": [
    "from sklearn.ensemble import GradientBoostingClassifier\n",
    "GBC = GradientBoostingClassifier(n_estimators=100, max_features = \"sqrt\", learning_rate=0.25,\n",
    "     max_depth=100, subsample= 0.8, random_state=42)\n",
    "\n",
    "#create sample_weights array\n",
    "sample_weights = [0.15 if x == 0 else 0.85 for x in y_train]\n",
    "GBC.fit(Xtrain,y_train,sample_weight = sample_weights)\n",
    "model_eval(GBC,Xtrain, y_train,Xtest,y_test)"
   ]
  },
  {
   "cell_type": "markdown",
   "metadata": {},
   "source": [
    "## 5.5 SGD Classifier "
   ]
  },
  {
   "cell_type": "code",
   "execution_count": 35,
   "metadata": {
    "scrolled": false
   },
   "outputs": [
    {
     "name": "stdout",
     "output_type": "stream",
     "text": [
      "Cross Validation score : \n",
      "0.978460525715\n",
      "prediciton Accuracy : 0.986244\n",
      "Confusion_matrix : \n",
      "[[1446    2]\n",
      " [  21  203]]\n",
      "classification report : \n",
      "             precision    recall  f1-score   support\n",
      "\n",
      "          0       0.99      1.00      0.99      1448\n",
      "          1       0.99      0.91      0.95       224\n",
      "\n",
      "avg / total       0.99      0.99      0.99      1672\n",
      "\n"
     ]
    }
   ],
   "source": [
    "from sklearn.linear_model import SGDClassifier \n",
    "#using SVM with loss=\"hinge\" will automatically deal with the imbalance in the dataset\n",
    "SGD = SGDClassifier(loss=\"hinge\", penalty=\"l2\", alpha=0.0001,           \n",
    "                    l1_ratio=0.15, fit_intercept=True, \n",
    "                    shuffle=True, learning_rate=\"optimal\", n_iter= np.ceil(10**6 / Xtrain.shape[1])) \n",
    "SGD.fit(Xtrain,y_train)\n",
    "model_eval(SGD,Xtrain, y_train,Xtest,y_test)"
   ]
  },
  {
   "cell_type": "markdown",
   "metadata": {},
   "source": [
    "SVM works well even if dimension is greater than sample number. Results of logistic regression are not as good as svm under SGD, w/o LSA/L1/L2/elastic net regularisation.\n",
    "\n",
    "# 6. SVD/ISA \n",
    "In this session we try to reduce the number of dimensions since the number of features is huge. "
   ]
  },
  {
   "cell_type": "code",
   "execution_count": 28,
   "metadata": {},
   "outputs": [
    {
     "name": "stdout",
     "output_type": "stream",
     "text": [
      "0.252380864308\n"
     ]
    }
   ],
   "source": [
    "from sklearn.pipeline import make_pipeline\n",
    "from sklearn.decomposition import TruncatedSVD\n",
    "from sklearn.preprocessing import Normalizer\n",
    "svd = TruncatedSVD(n_components=100, random_state=42)   #dimension 100 as recommended by sklearn documentation\n",
    "lsa = make_pipeline(svd, Normalizer(copy=False))\n",
    "Xtrain_lsa = lsa.fit_transform(Xtrain)\n",
    "Xtest_lsa = lsa.transform(Xtest)\n",
    "print(svd.explained_variance_ratio_.sum())"
   ]
  },
  {
   "cell_type": "code",
   "execution_count": 36,
   "metadata": {
    "scrolled": true
   },
   "outputs": [
    {
     "name": "stdout",
     "output_type": "stream",
     "text": [
      "Cross Validation score : \n",
      "0.974619954828\n",
      "AUC Score : 0.979553\n",
      "prediciton Accuracy : 0.976675\n",
      "Confusion_matrix : \n",
      "[[1434   14]\n",
      " [  25  199]]\n",
      "classification report : \n",
      "             precision    recall  f1-score   support\n",
      "\n",
      "          0       0.98      0.99      0.99      1448\n",
      "          1       0.93      0.89      0.91       224\n",
      "\n",
      "avg / total       0.98      0.98      0.98      1672\n",
      "\n"
     ]
    }
   ],
   "source": [
    "#use Gradient Boosting on the transformed data\n",
    "GBC_lsa = GradientBoostingClassifier(n_estimators=100, max_features = \"sqrt\", learning_rate=0.25,\n",
    "     max_depth=20, subsample= 0.8, random_state=42)\n",
    "#create sample_weights array\n",
    "sample_weights = [0.15 if x == 0 else 0.85 for x in y_train]\n",
    "GBC_lsa.fit(Xtrain_lsa,y_train,sample_weight = sample_weights)\n",
    "model_eval(GBC_lsa,Xtrain_lsa, y_train,Xtest_lsa,y_test)"
   ]
  },
  {
   "cell_type": "markdown",
   "metadata": {
    "collapsed": true
   },
   "source": [
    "The result shows that incorporating too much semantic information may not necessarily help with classification. "
   ]
  },
  {
   "cell_type": "markdown",
   "metadata": {},
   "source": [
    "# 7. Model selection\n",
    "\n",
    "- All models improved as compared to the benchmark model based on the performances metrics. Logistic regression with Lasso regularization achieves good result with simple method, however, the precision of \"spam\" is not as good as other models. \n",
    "- Both random forest and gradient boosting give 100% precision rate for \"spam\", as well as high prediction accuracy. SVM using SGD on the other hand gives a higher prediction accuracy while incorrectly identify two \"ham\" as \"spam\". \n",
    "- In our analysis, we should focus on precision of \"spam\" because we do not want to identity \"ham\" messages as \"spam\" messages in real life practice, while letting a small amount of \"spam\" escaping is acceptable. The cost of inaccurately identity a \"ham\" message as \"spam\" message should be higher than the other case. \n",
    "- We choose GBC and perform a grid search to improve the prediction result."
   ]
  },
  {
   "cell_type": "code",
   "execution_count": 25,
   "metadata": {
    "scrolled": true
   },
   "outputs": [
    {
     "data": {
      "text/plain": [
       "([mean: 0.98560, std: 0.00644, params: {'n_estimators': 50},\n",
       "  mean: 0.98604, std: 0.00659, params: {'n_estimators': 60},\n",
       "  mean: 0.98639, std: 0.00559, params: {'n_estimators': 70},\n",
       "  mean: 0.98707, std: 0.00507, params: {'n_estimators': 80},\n",
       "  mean: 0.98766, std: 0.00461, params: {'n_estimators': 90},\n",
       "  mean: 0.98733, std: 0.00472, params: {'n_estimators': 100},\n",
       "  mean: 0.98752, std: 0.00387, params: {'n_estimators': 110},\n",
       "  mean: 0.98757, std: 0.00389, params: {'n_estimators': 120},\n",
       "  mean: 0.98774, std: 0.00385, params: {'n_estimators': 130},\n",
       "  mean: 0.98757, std: 0.00376, params: {'n_estimators': 140},\n",
       "  mean: 0.98742, std: 0.00384, params: {'n_estimators': 150}],\n",
       " {'n_estimators': 130},\n",
       " 0.98774282374795208)"
      ]
     },
     "execution_count": 25,
     "metadata": {},
     "output_type": "execute_result"
    }
   ],
   "source": [
    "from sklearn.model_selection import GridSearchCV\n",
    "#for the first parameter, we try to look for the best n_estimators under learning_rate = 0.1\n",
    "param_test1 = {'n_estimators':range(50,151,10)}\n",
    "gsearch1 = GridSearchCV(estimator = GradientBoostingClassifier(learning_rate=0.1,\n",
    "                                   min_samples_leaf=10,max_depth=100,max_features='sqrt', \n",
    "                                    subsample=0.8,random_state=42), \n",
    "                       param_grid = param_test1, scoring='roc_auc',iid=False,cv=5)\n",
    "gsearch1.fit(Xtrain,y_train)\n",
    "gsearch1.grid_scores_, gsearch1.best_params_, gsearch1.best_score_"
   ]
  },
  {
   "cell_type": "code",
   "execution_count": 26,
   "metadata": {},
   "outputs": [
    {
     "data": {
      "text/plain": [
       "([mean: 0.98646, std: 0.00468, params: {'max_depth': 15},\n",
       "  mean: 0.98724, std: 0.00497, params: {'max_depth': 20},\n",
       "  mean: 0.98763, std: 0.00455, params: {'max_depth': 25},\n",
       "  mean: 0.98718, std: 0.00424, params: {'max_depth': 30},\n",
       "  mean: 0.98819, std: 0.00323, params: {'max_depth': 35},\n",
       "  mean: 0.98729, std: 0.00361, params: {'max_depth': 40},\n",
       "  mean: 0.98767, std: 0.00387, params: {'max_depth': 45},\n",
       "  mean: 0.98761, std: 0.00359, params: {'max_depth': 50}],\n",
       " {'max_depth': 35},\n",
       " 0.98819316448034411)"
      ]
     },
     "execution_count": 26,
     "metadata": {},
     "output_type": "execute_result"
    }
   ],
   "source": [
    "#We then use the best estimated n_estimators(130) and search for the best max_depth\n",
    "param_test2 = {'max_depth':range(15,51,5)}\n",
    "gsearch2 = GridSearchCV(estimator = GradientBoostingClassifier(learning_rate=0.1, n_estimators=130, \n",
    "                                    min_samples_leaf=10, max_features='sqrt', \n",
    "                                        subsample=0.8, random_state=42), \n",
    "                   param_grid = param_test2, scoring='roc_auc',iid=False, cv=5)\n",
    "gsearch2.fit(Xtrain,y_train)\n",
    "gsearch2.grid_scores_, gsearch2.best_params_, gsearch2.best_score_"
   ]
  },
  {
   "cell_type": "code",
   "execution_count": 27,
   "metadata": {},
   "outputs": [
    {
     "data": {
      "text/plain": [
       "([mean: 0.99043, std: 0.00242, params: {'min_samples_split': 100, 'min_samples_leaf': 3},\n",
       "  mean: 0.99044, std: 0.00281, params: {'min_samples_split': 150, 'min_samples_leaf': 3},\n",
       "  mean: 0.99044, std: 0.00281, params: {'min_samples_split': 200, 'min_samples_leaf': 3},\n",
       "  mean: 0.99044, std: 0.00281, params: {'min_samples_split': 250, 'min_samples_leaf': 3},\n",
       "  mean: 0.99044, std: 0.00281, params: {'min_samples_split': 300, 'min_samples_leaf': 3},\n",
       "  mean: 0.98616, std: 0.00728, params: {'min_samples_split': 100, 'min_samples_leaf': 13},\n",
       "  mean: 0.98616, std: 0.00728, params: {'min_samples_split': 150, 'min_samples_leaf': 13},\n",
       "  mean: 0.98616, std: 0.00728, params: {'min_samples_split': 200, 'min_samples_leaf': 13},\n",
       "  mean: 0.98616, std: 0.00728, params: {'min_samples_split': 250, 'min_samples_leaf': 13},\n",
       "  mean: 0.98616, std: 0.00728, params: {'min_samples_split': 300, 'min_samples_leaf': 13},\n",
       "  mean: 0.96934, std: 0.00844, params: {'min_samples_split': 100, 'min_samples_leaf': 23},\n",
       "  mean: 0.96934, std: 0.00844, params: {'min_samples_split': 150, 'min_samples_leaf': 23},\n",
       "  mean: 0.96934, std: 0.00844, params: {'min_samples_split': 200, 'min_samples_leaf': 23},\n",
       "  mean: 0.96934, std: 0.00844, params: {'min_samples_split': 250, 'min_samples_leaf': 23},\n",
       "  mean: 0.96934, std: 0.00844, params: {'min_samples_split': 300, 'min_samples_leaf': 23}],\n",
       " {'min_samples_leaf': 3, 'min_samples_split': 150},\n",
       " 0.99043617398745598)"
      ]
     },
     "execution_count": 27,
     "metadata": {},
     "output_type": "execute_result"
    }
   ],
   "source": [
    "#min_samples_split and min_samples_leaf since these two parameters are related\n",
    "param_test3 = {'min_samples_split':range(100,301,50), 'min_samples_leaf':range(3,24,10)}\n",
    "gsearch3 = GridSearchCV(estimator = GradientBoostingClassifier(learning_rate=0.1, n_estimators=130,\n",
    "                                    max_depth=35,max_features='sqrt', \n",
    "                                        subsample=0.8, random_state=42), \n",
    "                       param_grid = param_test3, scoring='roc_auc',iid=False, cv=5)\n",
    "gsearch3.fit(Xtrain,y_train)\n",
    "gsearch3.grid_scores_, gsearch3.best_params_, gsearch3.best_score_"
   ]
  },
  {
   "cell_type": "code",
   "execution_count": 28,
   "metadata": {
    "scrolled": true
   },
   "outputs": [
    {
     "data": {
      "text/plain": [
       "([mean: 0.99178, std: 0.00184, params: {'max_features': 40},\n",
       "  mean: 0.99080, std: 0.00271, params: {'max_features': 50},\n",
       "  mean: 0.99139, std: 0.00262, params: {'max_features': 60},\n",
       "  mean: 0.99109, std: 0.00196, params: {'max_features': 70},\n",
       "  mean: 0.99036, std: 0.00245, params: {'max_features': 80},\n",
       "  mean: 0.98991, std: 0.00251, params: {'max_features': 90},\n",
       "  mean: 0.99018, std: 0.00292, params: {'max_features': 100},\n",
       "  mean: 0.98965, std: 0.00285, params: {'max_features': 110},\n",
       "  mean: 0.98981, std: 0.00282, params: {'max_features': 120},\n",
       "  mean: 0.99080, std: 0.00275, params: {'max_features': 130}],\n",
       " {'max_features': 40},\n",
       " 0.99178147000198291)"
      ]
     },
     "execution_count": 28,
     "metadata": {},
     "output_type": "execute_result"
    }
   ],
   "source": [
    "#max_features\n",
    "param_test4 = {'max_features':range(40,131,10)}\n",
    "gsearch4 = GridSearchCV(estimator = GradientBoostingClassifier(learning_rate=0.1, n_estimators=130,\n",
    "                                    max_depth=35, min_samples_leaf =3, min_samples_split =150, \n",
    "                                            subsample=0.8, random_state=42), \n",
    "                       param_grid = param_test4, scoring='roc_auc',iid=False, cv=5)\n",
    "gsearch4.fit(Xtrain,y_train)\n",
    "gsearch4.grid_scores_, gsearch4.best_params_, gsearch4.best_score_"
   ]
  },
  {
   "cell_type": "code",
   "execution_count": 29,
   "metadata": {
    "scrolled": false
   },
   "outputs": [
    {
     "data": {
      "text/plain": [
       "([mean: 0.99195, std: 0.00240, params: {'subsample': 0.6},\n",
       "  mean: 0.99280, std: 0.00185, params: {'subsample': 0.7},\n",
       "  mean: 0.99277, std: 0.00237, params: {'subsample': 0.75},\n",
       "  mean: 0.99178, std: 0.00184, params: {'subsample': 0.8},\n",
       "  mean: 0.99180, std: 0.00250, params: {'subsample': 0.85},\n",
       "  mean: 0.99236, std: 0.00273, params: {'subsample': 0.9}],\n",
       " {'subsample': 0.7},\n",
       " 0.99279687966354635)"
      ]
     },
     "execution_count": 29,
     "metadata": {},
     "output_type": "execute_result"
    }
   ],
   "source": [
    "#subsample\n",
    "param_test5 = {'subsample':[0.6,0.7,0.75,0.8,0.85,0.9]}\n",
    "gsearch5 = GridSearchCV(estimator = GradientBoostingClassifier(learning_rate=0.1, n_estimators=130,\n",
    "                                    max_depth=35, min_samples_leaf =3, min_samples_split =150, \n",
    "                                                max_features=40, random_state=42), \n",
    "                       param_grid = param_test5, scoring='roc_auc',iid=False, cv=5)\n",
    "gsearch5.fit(Xtrain,y_train)\n",
    "gsearch5.grid_scores_, gsearch5.best_params_, gsearch5.best_score_"
   ]
  },
  {
   "cell_type": "markdown",
   "metadata": {},
   "source": [
    "# 8. Final model\n",
    "Now we use all the parameter estimated in the model. Reduce \"learning_rate\" by half and double \"n_estimators\"."
   ]
  },
  {
   "cell_type": "code",
   "execution_count": 37,
   "metadata": {},
   "outputs": [
    {
     "name": "stdout",
     "output_type": "stream",
     "text": [
      "Cross Validation score : \n",
      "0.981027590657\n",
      "AUC Score : 0.984558\n",
      "prediciton Accuracy : 0.988636\n",
      "Confusion_matrix : \n",
      "[[1448    0]\n",
      " [  19  205]]\n",
      "classification report : \n",
      "             precision    recall  f1-score   support\n",
      "\n",
      "          0       0.99      1.00      0.99      1448\n",
      "          1       1.00      0.92      0.96       224\n",
      "\n",
      "avg / total       0.99      0.99      0.99      1672\n",
      "\n"
     ]
    }
   ],
   "source": [
    "GBC2 = GradientBoostingClassifier(learning_rate=0.05, n_estimators=260,max_depth=35, min_samples_leaf =3, \n",
    "               min_samples_split =150, max_features=40, subsample=0.7, random_state=42)\n",
    "sample_weights = [0.15 if x == 0 else 0.85 for x in y_train]\n",
    "GBC2.fit(Xtrain,y_train,sample_weight = sample_weights)\n",
    "model_eval(GBC2,Xtrain, y_train,Xtest,y_test)"
   ]
  },
  {
   "cell_type": "markdown",
   "metadata": {},
   "source": [
    "Both AUC score and prediciton Accuracy increase from original model\n",
    "\n",
    "## plot top10 feature importance"
   ]
  },
  {
   "cell_type": "code",
   "execution_count": 31,
   "metadata": {
    "scrolled": true
   },
   "outputs": [],
   "source": [
    "importances = GBC2.feature_importances_\n",
    "std = np.std([GBC2.feature_importances_ for tree in GBC2.estimators_],axis=0)"
   ]
  },
  {
   "cell_type": "code",
   "execution_count": 32,
   "metadata": {
    "scrolled": true
   },
   "outputs": [
    {
     "name": "stdout",
     "output_type": "stream",
     "text": [
      "top10words : \n",
      "4285 new\n",
      "4019 message\n",
      "3796 lost\n",
      "2817 girls\n",
      "6780 won\n",
      "6389 uk\n",
      "2675 free\n",
      "5200 ringtone\n",
      "6364 txt\n",
      "5427 sexy\n"
     ]
    },
    {
     "data": {
      "image/png": "[encoded data removed]",
      "text/plain": [
       "<matplotlib.figure.Figure at 0x111f93320>"
      ]
     },
     "metadata": {
      "image/png": {
       "height": 265,
       "width": 380
      }
     },
     "output_type": "display_data"
    }
   ],
   "source": [
    "#top 10 indices:\n",
    "indices = np.argsort(importances)[::-1][0:10]\n",
    "feature_names = vectorizer.get_feature_names()\n",
    "print (\"top10words : \")\n",
    "for i in range(10):\n",
    "    print (indices[i],feature_names[indices[i]])\n",
    "plt.figure()\n",
    "plt.title(\"Feature importances\")\n",
    "plt.bar(range(10), importances[indices],\n",
    "       color=\"r\", yerr=std[indices], align=\"center\")\n",
    "plt.xticks(range(10), indices)\n",
    "plt.xlim([-1, 10])\n",
    "plt.show()"
   ]
  },
  {
   "cell_type": "markdown",
   "metadata": {},
   "source": [
    "## Further Improvements\n",
    "- Study the numbers in the features, compare the results after removing the numbers.\n",
    "- Study the wrongly classfied messages for further insights."
   ]
  },
  {
   "cell_type": "markdown",
   "metadata": {},
   "source": [
    "## Reference\n",
    "- confusion matrix http://scikit-learn.org/stable/auto_examples/model_selection/plot_confusion_matrix.html#sphx-glr-auto-examples-model-selection-plot-confusion-matrix-py\n",
    "- classification table https://stackoverflow.com/questions/28200786/how-to-plot-scikit-learn-classification-report?noredirect=1&lq=1\n",
    "- plot feature importance http://scikit-learn.org/stable/auto_examples/ensemble/plot_forest_importances.html"
   ]
  }
 ],
 "metadata": {
  "kernelspec": {
   "display_name": "Python 3",
   "language": "python",
   "name": "python3"
  },
  "language_info": {
   "codemirror_mode": {
    "name": "ipython",
    "version": 3
   },
   "file_extension": ".py",
   "mimetype": "text/x-python",
   "name": "python",
   "nbconvert_exporter": "python",
   "pygments_lexer": "ipython3",
   "version": "3.7.4"
  }
 },
 "nbformat": 4,
 "nbformat_minor": 2
}
